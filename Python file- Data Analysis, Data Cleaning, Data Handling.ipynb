{
 "cells": [
  {
   "cell_type": "code",
   "execution_count": 1,
   "id": "3e545c22",
   "metadata": {},
   "outputs": [],
   "source": [
    "import pandas as pd\n",
    "import numpy as np\n",
    "import seaborn as sns\n",
    "import matplotlib.pyplot as plt"
   ]
  },
  {
   "cell_type": "code",
   "execution_count": 2,
   "id": "71c688d3",
   "metadata": {},
   "outputs": [],
   "source": [
    "supplier_df =pd.read_csv(r\"D:\\Protfo;io- projects\\Supply Chain\\Suppliers.csv\")\n",
    "products_df =pd.read_csv(r\"D:\\Protfo;io- projects\\Supply Chain\\Products.csv\")\n",
    "orders_df= pd.read_csv(r\"D:\\Protfo;io- projects\\Supply Chain\\Orders.csv\")\n",
    "shipment_df= pd.read_csv(r\"D:\\Protfo;io- projects\\Supply Chain\\Shipments.csv\")"
   ]
  },
  {
   "cell_type": "code",
   "execution_count": 3,
   "id": "5097694a",
   "metadata": {},
   "outputs": [
    {
     "data": {
      "text/plain": [
       "np.int64(0)"
      ]
     },
     "execution_count": 3,
     "metadata": {},
     "output_type": "execute_result"
    }
   ],
   "source": [
    "supplier_df.head(2)\n",
    "supplier_df.shape   # to check how many rows and columns are thier in dataset\n",
    "supplier_df.isnull().sum()   # to check null values\n",
    "supplier_df.duplicated().sum()  # to check duplicates"
   ]
  },
  {
   "cell_type": "code",
   "execution_count": 7,
   "id": "80fc6a79",
   "metadata": {},
   "outputs": [
    {
     "data": {
      "text/plain": [
       "SupplierID      0\n",
       "SupplierName    0\n",
       "Country         0\n",
       "LeadTimeDays    0\n",
       "ContactEmail    0\n",
       "dtype: int64"
      ]
     },
     "execution_count": 7,
     "metadata": {},
     "output_type": "execute_result"
    }
   ],
   "source": [
    "supplier_df.isnull().sum() "
   ]
  },
  {
   "cell_type": "markdown",
   "id": "45a163f7",
   "metadata": {},
   "source": [
    "# Data Handing, Data Cleaning for Products Table"
   ]
  },
  {
   "cell_type": "code",
   "execution_count": 4,
   "id": "cff320af",
   "metadata": {},
   "outputs": [
    {
     "data": {
      "text/html": [
       "<div>\n",
       "<style scoped>\n",
       "    .dataframe tbody tr th:only-of-type {\n",
       "        vertical-align: middle;\n",
       "    }\n",
       "\n",
       "    .dataframe tbody tr th {\n",
       "        vertical-align: top;\n",
       "    }\n",
       "\n",
       "    .dataframe thead th {\n",
       "        text-align: right;\n",
       "    }\n",
       "</style>\n",
       "<table border=\"1\" class=\"dataframe\">\n",
       "  <thead>\n",
       "    <tr style=\"text-align: right;\">\n",
       "      <th></th>\n",
       "      <th>ProductID</th>\n",
       "      <th>ProductName</th>\n",
       "      <th>Category</th>\n",
       "      <th>SupplierID</th>\n",
       "      <th>UnitPriceUSD</th>\n",
       "      <th>StockLevel</th>\n",
       "    </tr>\n",
       "  </thead>\n",
       "  <tbody>\n",
       "    <tr>\n",
       "      <th>1038</th>\n",
       "      <td>P0277</td>\n",
       "      <td>Product_277</td>\n",
       "      <td>Components</td>\n",
       "      <td>S021</td>\n",
       "      <td>90.04</td>\n",
       "      <td>4778</td>\n",
       "    </tr>\n",
       "    <tr>\n",
       "      <th>1039</th>\n",
       "      <td>P0037</td>\n",
       "      <td>Product_37</td>\n",
       "      <td>Controllers</td>\n",
       "      <td>S044</td>\n",
       "      <td>41.68</td>\n",
       "      <td>4954</td>\n",
       "    </tr>\n",
       "  </tbody>\n",
       "</table>\n",
       "</div>"
      ],
      "text/plain": [
       "     ProductID  ProductName     Category SupplierID  UnitPriceUSD  StockLevel\n",
       "1038     P0277  Product_277   Components       S021         90.04        4778\n",
       "1039     P0037   Product_37  Controllers       S044         41.68        4954"
      ]
     },
     "execution_count": 4,
     "metadata": {},
     "output_type": "execute_result"
    }
   ],
   "source": [
    "products_df.tail(2)"
   ]
  },
  {
   "cell_type": "code",
   "execution_count": 5,
   "id": "3cbb0ea3",
   "metadata": {},
   "outputs": [
    {
     "data": {
      "text/plain": [
       "ProductID       0.000000\n",
       "ProductName     5.096154\n",
       "Category        0.000000\n",
       "SupplierID      0.000000\n",
       "UnitPriceUSD    3.173077\n",
       "StockLevel      0.000000\n",
       "dtype: float64"
      ]
     },
     "execution_count": 5,
     "metadata": {},
     "output_type": "execute_result"
    }
   ],
   "source": [
    "products_df.shape\n",
    "products_df.isnull().sum() / len(products_df)*100\n"
   ]
  },
  {
   "cell_type": "code",
   "execution_count": 8,
   "id": "a2f7ba97",
   "metadata": {},
   "outputs": [],
   "source": [
    "products_df.dropna(subset=['UnitPriceUSD'], inplace=True)"
   ]
  },
  {
   "cell_type": "code",
   "execution_count": 7,
   "id": "55bc8b7e",
   "metadata": {},
   "outputs": [
    {
     "name": "stderr",
     "output_type": "stream",
     "text": [
      "C:\\Users\\User\\AppData\\Local\\Temp\\ipykernel_28376\\3890093623.py:1: FutureWarning: A value is trying to be set on a copy of a DataFrame or Series through chained assignment using an inplace method.\n",
      "The behavior will change in pandas 3.0. This inplace method will never work because the intermediate object on which we are setting values always behaves as a copy.\n",
      "\n",
      "For example, when doing 'df[col].method(value, inplace=True)', try using 'df.method({col: value}, inplace=True)' or df[col] = df[col].method(value) instead, to perform the operation inplace on the original object.\n",
      "\n",
      "\n",
      "  products_df['ProductName'].fillna('Unknown Product', inplace=True)  # i filled NaN to Unknown Product\n"
     ]
    }
   ],
   "source": [
    "products_df['ProductName'].fillna('Unknown Product', inplace=True)  # i filled NaN to Unknown Product"
   ]
  },
  {
   "cell_type": "code",
   "execution_count": 8,
   "id": "965b8ec6",
   "metadata": {},
   "outputs": [],
   "source": [
    "products_df=products_df.drop_duplicates()"
   ]
  },
  {
   "cell_type": "code",
   "execution_count": 9,
   "id": "c173e30f",
   "metadata": {},
   "outputs": [
    {
     "data": {
      "text/plain": [
       "ProductID       0\n",
       "ProductName     0\n",
       "Category        0\n",
       "SupplierID      0\n",
       "UnitPriceUSD    0\n",
       "StockLevel      0\n",
       "dtype: int64"
      ]
     },
     "execution_count": 9,
     "metadata": {},
     "output_type": "execute_result"
    }
   ],
   "source": [
    "products_df.isnull().sum()"
   ]
  },
  {
   "cell_type": "markdown",
   "id": "c794b535",
   "metadata": {},
   "source": [
    "# Data Handing, Data Cleaning for Orders Table"
   ]
  },
  {
   "cell_type": "code",
   "execution_count": 10,
   "id": "927b51eb",
   "metadata": {},
   "outputs": [
    {
     "data": {
      "text/plain": [
       "OrderID        0.000000\n",
       "OrderDate      0.000000\n",
       "ProductID      0.000000\n",
       "Quantity       3.719512\n",
       "Warehouse      0.000000\n",
       "OrderStatus    3.134146\n",
       "dtype: float64"
      ]
     },
     "execution_count": 10,
     "metadata": {},
     "output_type": "execute_result"
    }
   ],
   "source": [
    "orders_df.isnull().sum() / len(orders_df)*100"
   ]
  },
  {
   "cell_type": "code",
   "execution_count": 11,
   "id": "6699cc13",
   "metadata": {},
   "outputs": [
    {
     "data": {
      "text/plain": [
       "(8200, 6)"
      ]
     },
     "execution_count": 11,
     "metadata": {},
     "output_type": "execute_result"
    }
   ],
   "source": [
    "orders_df.shape"
   ]
  },
  {
   "cell_type": "code",
   "execution_count": 12,
   "id": "af55c888",
   "metadata": {},
   "outputs": [],
   "source": [
    "orders_df.duplicated().sum()\n",
    "orders_df.drop_duplicates(subset=['OrderID', 'ProductID'], inplace=True)"
   ]
  },
  {
   "cell_type": "code",
   "execution_count": 13,
   "id": "35ea0250",
   "metadata": {},
   "outputs": [],
   "source": [
    "orders_df.dropna(subset={'Quantity','OrderStatus'},inplace=True)\n"
   ]
  },
  {
   "cell_type": "code",
   "execution_count": 14,
   "id": "77dcdad4",
   "metadata": {},
   "outputs": [
    {
     "data": {
      "text/plain": [
       "OrderID        0\n",
       "OrderDate      0\n",
       "ProductID      0\n",
       "Quantity       0\n",
       "Warehouse      0\n",
       "OrderStatus    0\n",
       "dtype: int64"
      ]
     },
     "execution_count": 14,
     "metadata": {},
     "output_type": "execute_result"
    }
   ],
   "source": [
    "orders_df.isnull().sum()"
   ]
  },
  {
   "cell_type": "code",
   "execution_count": 15,
   "id": "6e5b3fbb",
   "metadata": {},
   "outputs": [
    {
     "data": {
      "text/html": [
       "<div>\n",
       "<style scoped>\n",
       "    .dataframe tbody tr th:only-of-type {\n",
       "        vertical-align: middle;\n",
       "    }\n",
       "\n",
       "    .dataframe tbody tr th {\n",
       "        vertical-align: top;\n",
       "    }\n",
       "\n",
       "    .dataframe thead th {\n",
       "        text-align: right;\n",
       "    }\n",
       "</style>\n",
       "<table border=\"1\" class=\"dataframe\">\n",
       "  <thead>\n",
       "    <tr style=\"text-align: right;\">\n",
       "      <th></th>\n",
       "      <th>OrderID</th>\n",
       "      <th>OrderDate</th>\n",
       "      <th>ProductID</th>\n",
       "      <th>Quantity</th>\n",
       "      <th>Warehouse</th>\n",
       "      <th>OrderStatus</th>\n",
       "    </tr>\n",
       "  </thead>\n",
       "  <tbody>\n",
       "    <tr>\n",
       "      <th>0</th>\n",
       "      <td>O000001</td>\n",
       "      <td>2024-06-24</td>\n",
       "      <td>P0040</td>\n",
       "      <td>103.0</td>\n",
       "      <td>Tokyo</td>\n",
       "      <td>Delivered</td>\n",
       "    </tr>\n",
       "    <tr>\n",
       "      <th>1</th>\n",
       "      <td>O000002</td>\n",
       "      <td>2024-05-11</td>\n",
       "      <td>P0464</td>\n",
       "      <td>436.0</td>\n",
       "      <td>Tokyo</td>\n",
       "      <td>Pending</td>\n",
       "    </tr>\n",
       "  </tbody>\n",
       "</table>\n",
       "</div>"
      ],
      "text/plain": [
       "   OrderID   OrderDate ProductID  Quantity Warehouse OrderStatus\n",
       "0  O000001  2024-06-24     P0040     103.0     Tokyo   Delivered\n",
       "1  O000002  2024-05-11     P0464     436.0     Tokyo     Pending"
      ]
     },
     "execution_count": 15,
     "metadata": {},
     "output_type": "execute_result"
    }
   ],
   "source": [
    "orders_df.head(2)"
   ]
  },
  {
   "cell_type": "markdown",
   "id": "9e89591b",
   "metadata": {},
   "source": [
    "# Data Handing, Data Cleaning for Shipment Table"
   ]
  },
  {
   "cell_type": "code",
   "execution_count": 4,
   "id": "6eb5f1d5",
   "metadata": {},
   "outputs": [
    {
     "data": {
      "text/html": [
       "<div>\n",
       "<style scoped>\n",
       "    .dataframe tbody tr th:only-of-type {\n",
       "        vertical-align: middle;\n",
       "    }\n",
       "\n",
       "    .dataframe tbody tr th {\n",
       "        vertical-align: top;\n",
       "    }\n",
       "\n",
       "    .dataframe thead th {\n",
       "        text-align: right;\n",
       "    }\n",
       "</style>\n",
       "<table border=\"1\" class=\"dataframe\">\n",
       "  <thead>\n",
       "    <tr style=\"text-align: right;\">\n",
       "      <th></th>\n",
       "      <th>ShipmentID</th>\n",
       "      <th>OrderID</th>\n",
       "      <th>ShipDate</th>\n",
       "      <th>DeliveryDate</th>\n",
       "      <th>ShippingMode</th>\n",
       "      <th>ShippingCostUSD</th>\n",
       "    </tr>\n",
       "  </thead>\n",
       "  <tbody>\n",
       "    <tr>\n",
       "      <th>0</th>\n",
       "      <td>SH000001</td>\n",
       "      <td>O000001</td>\n",
       "      <td>2024-11-04</td>\n",
       "      <td>2024-11-13</td>\n",
       "      <td>Rail</td>\n",
       "      <td>1715.01</td>\n",
       "    </tr>\n",
       "    <tr>\n",
       "      <th>1</th>\n",
       "      <td>SH000002</td>\n",
       "      <td>O000002</td>\n",
       "      <td>2024-12-27</td>\n",
       "      <td>NaN</td>\n",
       "      <td>Air Freight</td>\n",
       "      <td>519.58</td>\n",
       "    </tr>\n",
       "  </tbody>\n",
       "</table>\n",
       "</div>"
      ],
      "text/plain": [
       "  ShipmentID  OrderID    ShipDate DeliveryDate ShippingMode  ShippingCostUSD\n",
       "0   SH000001  O000001  2024-11-04   2024-11-13         Rail          1715.01\n",
       "1   SH000002  O000002  2024-12-27          NaN  Air Freight           519.58"
      ]
     },
     "execution_count": 4,
     "metadata": {},
     "output_type": "execute_result"
    }
   ],
   "source": [
    "shipment_df.head(2)"
   ]
  },
  {
   "cell_type": "code",
   "execution_count": 10,
   "id": "9aa97a74",
   "metadata": {},
   "outputs": [
    {
     "data": {
      "text/plain": [
       "ShipmentID            0\n",
       "OrderID               0\n",
       "ShipDate              0\n",
       "DeliveryDate       4973\n",
       "ShippingMode          0\n",
       "ShippingCostUSD       0\n",
       "dtype: int64"
      ]
     },
     "execution_count": 10,
     "metadata": {},
     "output_type": "execute_result"
    }
   ],
   "source": [
    "shipment_df.isnull().sum()"
   ]
  },
  {
   "cell_type": "code",
   "execution_count": 12,
   "id": "0781986a",
   "metadata": {},
   "outputs": [
    {
     "data": {
      "text/html": [
       "<div>\n",
       "<style scoped>\n",
       "    .dataframe tbody tr th:only-of-type {\n",
       "        vertical-align: middle;\n",
       "    }\n",
       "\n",
       "    .dataframe tbody tr th {\n",
       "        vertical-align: top;\n",
       "    }\n",
       "\n",
       "    .dataframe thead th {\n",
       "        text-align: right;\n",
       "    }\n",
       "</style>\n",
       "<table border=\"1\" class=\"dataframe\">\n",
       "  <thead>\n",
       "    <tr style=\"text-align: right;\">\n",
       "      <th></th>\n",
       "      <th>ShipmentID</th>\n",
       "      <th>OrderID</th>\n",
       "      <th>ShipDate</th>\n",
       "      <th>DeliveryDate</th>\n",
       "      <th>ShippingMode</th>\n",
       "      <th>ShippingCostUSD</th>\n",
       "    </tr>\n",
       "  </thead>\n",
       "  <tbody>\n",
       "    <tr>\n",
       "      <th>0</th>\n",
       "      <td>SH000001</td>\n",
       "      <td>O000001</td>\n",
       "      <td>2024-11-04</td>\n",
       "      <td>2024-11-13</td>\n",
       "      <td>Rail</td>\n",
       "      <td>1715.01</td>\n",
       "    </tr>\n",
       "    <tr>\n",
       "      <th>1</th>\n",
       "      <td>SH000002</td>\n",
       "      <td>O000002</td>\n",
       "      <td>2024-12-27</td>\n",
       "      <td>NaN</td>\n",
       "      <td>Air Freight</td>\n",
       "      <td>519.58</td>\n",
       "    </tr>\n",
       "    <tr>\n",
       "      <th>2</th>\n",
       "      <td>SH000003</td>\n",
       "      <td>O000003</td>\n",
       "      <td>2024-06-15</td>\n",
       "      <td>2024-07-12</td>\n",
       "      <td>Road</td>\n",
       "      <td>93.65</td>\n",
       "    </tr>\n",
       "    <tr>\n",
       "      <th>3</th>\n",
       "      <td>SH000004</td>\n",
       "      <td>O000004</td>\n",
       "      <td>2024-02-26</td>\n",
       "      <td>2024-03-12</td>\n",
       "      <td>Rail</td>\n",
       "      <td>1796.15</td>\n",
       "    </tr>\n",
       "    <tr>\n",
       "      <th>4</th>\n",
       "      <td>SH000005</td>\n",
       "      <td>O000005</td>\n",
       "      <td>2024-03-24</td>\n",
       "      <td>2024-04-13</td>\n",
       "      <td>Air Freight</td>\n",
       "      <td>85.69</td>\n",
       "    </tr>\n",
       "    <tr>\n",
       "      <th>5</th>\n",
       "      <td>SH000006</td>\n",
       "      <td>O000006</td>\n",
       "      <td>2024-02-03</td>\n",
       "      <td>NaN</td>\n",
       "      <td>Air Freight</td>\n",
       "      <td>900.22</td>\n",
       "    </tr>\n",
       "    <tr>\n",
       "      <th>6</th>\n",
       "      <td>SH000007</td>\n",
       "      <td>O000007</td>\n",
       "      <td>2024-08-08</td>\n",
       "      <td>2024-08-19</td>\n",
       "      <td>Rail</td>\n",
       "      <td>1043.81</td>\n",
       "    </tr>\n",
       "    <tr>\n",
       "      <th>7</th>\n",
       "      <td>SH000008</td>\n",
       "      <td>O000008</td>\n",
       "      <td>2024-08-27</td>\n",
       "      <td>2024-09-22</td>\n",
       "      <td>Rail</td>\n",
       "      <td>945.63</td>\n",
       "    </tr>\n",
       "    <tr>\n",
       "      <th>8</th>\n",
       "      <td>SH000009</td>\n",
       "      <td>O000009</td>\n",
       "      <td>2024-08-28</td>\n",
       "      <td>NaN</td>\n",
       "      <td>Road</td>\n",
       "      <td>1266.07</td>\n",
       "    </tr>\n",
       "    <tr>\n",
       "      <th>9</th>\n",
       "      <td>SH000010</td>\n",
       "      <td>O000010</td>\n",
       "      <td>2024-12-28</td>\n",
       "      <td>2025-01-14</td>\n",
       "      <td>Air Freight</td>\n",
       "      <td>1383.56</td>\n",
       "    </tr>\n",
       "  </tbody>\n",
       "</table>\n",
       "</div>"
      ],
      "text/plain": [
       "  ShipmentID  OrderID    ShipDate DeliveryDate ShippingMode  ShippingCostUSD\n",
       "0   SH000001  O000001  2024-11-04   2024-11-13         Rail          1715.01\n",
       "1   SH000002  O000002  2024-12-27          NaN  Air Freight           519.58\n",
       "2   SH000003  O000003  2024-06-15   2024-07-12         Road            93.65\n",
       "3   SH000004  O000004  2024-02-26   2024-03-12         Rail          1796.15\n",
       "4   SH000005  O000005  2024-03-24   2024-04-13  Air Freight            85.69\n",
       "5   SH000006  O000006  2024-02-03          NaN  Air Freight           900.22\n",
       "6   SH000007  O000007  2024-08-08   2024-08-19         Rail          1043.81\n",
       "7   SH000008  O000008  2024-08-27   2024-09-22         Rail           945.63\n",
       "8   SH000009  O000009  2024-08-28          NaN         Road          1266.07\n",
       "9   SH000010  O000010  2024-12-28   2025-01-14  Air Freight          1383.56"
      ]
     },
     "execution_count": 12,
     "metadata": {},
     "output_type": "execute_result"
    }
   ],
   "source": [
    "shipment_df.head(10)\n"
   ]
  },
  {
   "cell_type": "code",
   "execution_count": 9,
   "id": "6682adaf",
   "metadata": {},
   "outputs": [],
   "source": [
    "shipment_df.dropna(subset=['ShippingCostUSD'],inplace=True)"
   ]
  },
  {
   "cell_type": "code",
   "execution_count": 13,
   "id": "c3dabc6e",
   "metadata": {},
   "outputs": [
    {
     "data": {
      "text/plain": [
       "Delivered\n",
       "False    4973\n",
       "True     4528\n",
       "Name: count, dtype: int64"
      ]
     },
     "execution_count": 13,
     "metadata": {},
     "output_type": "execute_result"
    }
   ],
   "source": [
    "shipment_df['Delivered'] = shipment_df['DeliveryDate'].notna()\n",
    "shipment_df['Delivered'].value_counts()"
   ]
  },
  {
   "cell_type": "code",
   "execution_count": 14,
   "id": "dcff680e",
   "metadata": {},
   "outputs": [],
   "source": [
    "shipment_df['DeliveryDate'] = pd.to_datetime(shipment_df['DeliveryDate'], errors='coerce')"
   ]
  },
  {
   "cell_type": "code",
   "execution_count": 21,
   "id": "f21df9a1",
   "metadata": {},
   "outputs": [
    {
     "data": {
      "text/html": [
       "<div>\n",
       "<style scoped>\n",
       "    .dataframe tbody tr th:only-of-type {\n",
       "        vertical-align: middle;\n",
       "    }\n",
       "\n",
       "    .dataframe tbody tr th {\n",
       "        vertical-align: top;\n",
       "    }\n",
       "\n",
       "    .dataframe thead th {\n",
       "        text-align: right;\n",
       "    }\n",
       "</style>\n",
       "<table border=\"1\" class=\"dataframe\">\n",
       "  <thead>\n",
       "    <tr style=\"text-align: right;\">\n",
       "      <th></th>\n",
       "      <th>ShipmentID</th>\n",
       "      <th>OrderID</th>\n",
       "      <th>ShipDate</th>\n",
       "      <th>DeliveryDate</th>\n",
       "      <th>ShippingMode</th>\n",
       "      <th>ShippingCostUSD</th>\n",
       "      <th>Delivered</th>\n",
       "    </tr>\n",
       "  </thead>\n",
       "  <tbody>\n",
       "    <tr>\n",
       "      <th>0</th>\n",
       "      <td>SH000001</td>\n",
       "      <td>O000001</td>\n",
       "      <td>2024-11-04</td>\n",
       "      <td>2024-11-13</td>\n",
       "      <td>Rail</td>\n",
       "      <td>1715.01</td>\n",
       "      <td>True</td>\n",
       "    </tr>\n",
       "    <tr>\n",
       "      <th>1</th>\n",
       "      <td>SH000002</td>\n",
       "      <td>O000002</td>\n",
       "      <td>2024-12-27</td>\n",
       "      <td>NaT</td>\n",
       "      <td>Air Freight</td>\n",
       "      <td>519.58</td>\n",
       "      <td>False</td>\n",
       "    </tr>\n",
       "  </tbody>\n",
       "</table>\n",
       "</div>"
      ],
      "text/plain": [
       "  ShipmentID  OrderID    ShipDate DeliveryDate ShippingMode  ShippingCostUSD  \\\n",
       "0   SH000001  O000001  2024-11-04   2024-11-13         Rail          1715.01   \n",
       "1   SH000002  O000002  2024-12-27          NaT  Air Freight           519.58   \n",
       "\n",
       "   Delivered  \n",
       "0       True  \n",
       "1      False  "
      ]
     },
     "execution_count": 21,
     "metadata": {},
     "output_type": "execute_result"
    }
   ],
   "source": [
    "shipment_df.head(2)"
   ]
  },
  {
   "cell_type": "code",
   "execution_count": 15,
   "id": "38c743f5",
   "metadata": {},
   "outputs": [
    {
     "data": {
      "text/plain": [
       "ShipmentID            0\n",
       "OrderID               0\n",
       "ShipDate              0\n",
       "DeliveryDate       4973\n",
       "ShippingMode          0\n",
       "ShippingCostUSD       0\n",
       "Delivered             0\n",
       "dtype: int64"
      ]
     },
     "execution_count": 15,
     "metadata": {},
     "output_type": "execute_result"
    }
   ],
   "source": [
    "shipment_df.isnull().sum()"
   ]
  },
  {
   "cell_type": "code",
   "execution_count": 23,
   "id": "1cc4a3ba",
   "metadata": {},
   "outputs": [],
   "source": [
    "shipment_df['Shipped'] = shipment_df['ShipDate'].notna()"
   ]
  },
  {
   "cell_type": "code",
   "execution_count": 24,
   "id": "14e89c86",
   "metadata": {},
   "outputs": [
    {
     "data": {
      "text/plain": [
       "Shipped\n",
       "True     9501\n",
       "False     499\n",
       "Name: count, dtype: int64"
      ]
     },
     "execution_count": 24,
     "metadata": {},
     "output_type": "execute_result"
    }
   ],
   "source": [
    "shipment_df['Shipped'].value_counts()"
   ]
  },
  {
   "cell_type": "code",
   "execution_count": 25,
   "id": "431c3b05",
   "metadata": {},
   "outputs": [],
   "source": [
    "# Export Products table\n",
    "products_df.to_csv('Products_df.csv', index=False)\n",
    "\n",
    "# Export Orders table\n",
    "orders_df.to_csv('Orders_df.csv', index=False)\n",
    "\n",
    "# Export Shipments table\n",
    "shipment_df.to_csv('Shipments_df.csv', index=False)\n",
    "\n",
    "# Export Suppliers table (if needed)\n",
    "supplier_df.to_csv('Suppliers_df.csv', index=False)\n"
   ]
  },
  {
   "cell_type": "code",
   "execution_count": 26,
   "id": "c50cf389",
   "metadata": {},
   "outputs": [],
   "source": [
    "products_df.to_csv('D:\\\\Protfo;io- projects\\\\Supply Chain\\\\Products_df.csv', index=False)\n",
    "orders_df.to_csv('D:\\\\Protfo;io- projects\\\\Supply Chain\\\\Orders_df.csv', index=False)\n",
    "shipment_df.to_csv('D:\\\\Protfo;io- projects\\\\Supply Chain\\\\Shipments_df.csv', index=False)\n",
    "supplier_df.to_csv('D:\\\\Protfo;io- projects\\\\Supply Chain\\\\Suppliers_df.csv', index=False)"
   ]
  },
  {
   "cell_type": "code",
   "execution_count": 16,
   "id": "c96cd9cd",
   "metadata": {},
   "outputs": [],
   "source": [
    "shipment_df.to_csv('Shipments_df.csv', index=False)"
   ]
  },
  {
   "cell_type": "code",
   "execution_count": 17,
   "id": "40e0aec7",
   "metadata": {},
   "outputs": [],
   "source": [
    "supplier_df.to_csv('D:\\\\Protfo;io- projects\\\\Supply Chain- Ecommerce\\\\Suppliers_df.csv', index=False)"
   ]
  },
  {
   "cell_type": "code",
   "execution_count": 18,
   "id": "ffdaf6f2",
   "metadata": {},
   "outputs": [],
   "source": [
    "shipment_df.to_csv('D:\\\\Protfo;io- projects\\\\Supply Chain- Ecommerce\\\\Shipments_df.csv', index=False)"
   ]
  },
  {
   "cell_type": "code",
   "execution_count": 20,
   "id": "aa42319a",
   "metadata": {},
   "outputs": [
    {
     "data": {
      "text/html": [
       "<div>\n",
       "<style scoped>\n",
       "    .dataframe tbody tr th:only-of-type {\n",
       "        vertical-align: middle;\n",
       "    }\n",
       "\n",
       "    .dataframe tbody tr th {\n",
       "        vertical-align: top;\n",
       "    }\n",
       "\n",
       "    .dataframe thead th {\n",
       "        text-align: right;\n",
       "    }\n",
       "</style>\n",
       "<table border=\"1\" class=\"dataframe\">\n",
       "  <thead>\n",
       "    <tr style=\"text-align: right;\">\n",
       "      <th></th>\n",
       "      <th>ShipmentID</th>\n",
       "      <th>OrderID</th>\n",
       "      <th>ShipDate</th>\n",
       "      <th>DeliveryDate</th>\n",
       "      <th>ShippingMode</th>\n",
       "      <th>ShippingCostUSD</th>\n",
       "      <th>Delivered</th>\n",
       "    </tr>\n",
       "  </thead>\n",
       "  <tbody>\n",
       "    <tr>\n",
       "      <th>0</th>\n",
       "      <td>SH000001</td>\n",
       "      <td>O000001</td>\n",
       "      <td>2024-11-04</td>\n",
       "      <td>2024-11-13</td>\n",
       "      <td>Rail</td>\n",
       "      <td>1715.01</td>\n",
       "      <td>True</td>\n",
       "    </tr>\n",
       "    <tr>\n",
       "      <th>1</th>\n",
       "      <td>SH000002</td>\n",
       "      <td>O000002</td>\n",
       "      <td>2024-12-27</td>\n",
       "      <td>NaT</td>\n",
       "      <td>Air Freight</td>\n",
       "      <td>519.58</td>\n",
       "      <td>False</td>\n",
       "    </tr>\n",
       "  </tbody>\n",
       "</table>\n",
       "</div>"
      ],
      "text/plain": [
       "  ShipmentID  OrderID    ShipDate DeliveryDate ShippingMode  ShippingCostUSD  \\\n",
       "0   SH000001  O000001  2024-11-04   2024-11-13         Rail          1715.01   \n",
       "1   SH000002  O000002  2024-12-27          NaT  Air Freight           519.58   \n",
       "\n",
       "   Delivered  \n",
       "0       True  \n",
       "1      False  "
      ]
     },
     "execution_count": 20,
     "metadata": {},
     "output_type": "execute_result"
    }
   ],
   "source": [
    "shipment_df.head(2)"
   ]
  },
  {
   "cell_type": "code",
   "execution_count": null,
   "id": "4f421a0b",
   "metadata": {},
   "outputs": [],
   "source": []
  }
 ],
 "metadata": {
  "kernelspec": {
   "display_name": "Python 3",
   "language": "python",
   "name": "python3"
  },
  "language_info": {
   "codemirror_mode": {
    "name": "ipython",
    "version": 3
   },
   "file_extension": ".py",
   "mimetype": "text/x-python",
   "name": "python",
   "nbconvert_exporter": "python",
   "pygments_lexer": "ipython3",
   "version": "3.12.1"
  }
 },
 "nbformat": 4,
 "nbformat_minor": 5
}
